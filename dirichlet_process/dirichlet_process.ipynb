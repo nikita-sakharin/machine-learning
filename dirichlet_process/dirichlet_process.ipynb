{
 "cells": [
  {
   "cell_type": "code",
   "execution_count": null,
   "metadata": {},
   "outputs": [],
   "source": [
    "import numpy as np\n",
    "import matplotlib.pyplot as plt\n",
    "from numpy.random import Generator, PCG64\n",
    "\n",
    "G = Generator(PCG64())\n",
    "\n",
    "\n",
    "n = 100\n",
    "\n",
    "def stick_breaking(n: int, alpha: float) -> np.ndarray:\n",
    "    \"\"\"\n",
    "    Draws n samples from a stick-breaking process with beta distribution intensity alpha.\n",
    "\n",
    "    :param n: number of samples\n",
    "    :param alpha: intensity parameter of the beta distribution\n",
    "    :returns: stick lengths\n",
    "    \"\"\"\n",
    "    betas = G.beta(a=1.0, b=alpha, size=n)\n",
    "    betas[1:] *= np.cumprod(1.0 - betas[:-1])\n",
    "    weights = np.sort(betas)[::-1]\n",
    "    return weights\n",
    "\n",
    "def mandelbrot(x: np.ndarray, B: float, c: float):\n",
    "    y = 1.0 / np.power(c + x, B)\n",
    "    y /= np.sum(y)\n",
    "    assert np.isclose(1.0, np.sum(y), rtol=0.0, atol=1E-8)\n",
    "    return y\n",
    "\n",
    "def plot_stick_lengths(stick_lengths: np.ndarray, alpha: float, B: int) -> None:\n",
    "    \"\"\"\n",
    "    Plots -log2(sticks)\n",
    "    :param sticks: list of stick lenghts\n",
    "    \"\"\"\n",
    "    n = len(stick_lengths)\n",
    "    fig = plt.figure(figsize=(16, 9), dpi=400)\n",
    "    subplot = fig.add_subplot(111, facecolor='white')\n",
    "    subplot.plot(np.arange(n), stick_lengths, label=str('-log2(stick_lengths)'))\n",
    "    plt.legend()\n",
    "    plt.show()"
   ]
  },
  {
   "cell_type": "code",
   "execution_count": null,
   "metadata": {},
   "outputs": [],
   "source": [
    "from numpy.linalg import norm\n",
    "\n",
    "def zipf_law_norm(sample: np.ndarray, ord=None) -> float:\n",
    "    n = len(sample)\n",
    "    x = sample / sample[0] * (1 + np.arange(n))\n",
    "    return norm(x - np.ones(n))\n",
    "\n",
    "assert zipf_law_norm(np.array([24, 12, 8, 6, 4.8, 4])) == 1.1102230246251565e-16"
   ]
  },
  {
   "cell_type": "code",
   "execution_count": null,
   "metadata": {},
   "outputs": [],
   "source": [
    "from sys import float_info\n",
    "\n",
    "def grid_alpha_sample(start: float, stop: float, step: float,\n",
    "        num_iter: int) -> float:\n",
    "    min_sample_norm = float_info.max\n",
    "    for alpha in np.arange(start, stop, step):\n",
    "        for _ in range(num_iter):\n",
    "            sample = stick_breaking(n, alpha)\n",
    "            sample_norm = zipf_law_norm(sample)\n",
    "            if min_sample_norm > sample_norm:\n",
    "                min_sample_norm = sample_norm\n",
    "                min_alpha, min_sample = alpha, sample\n",
    "    return min_alpha, min_sample\n",
    "\n",
    "num_iter = 10000\n",
    "step = 1.0 / 8.0\n",
    "test_alpha, test_sample = grid_alpha_sample(step, 250, step, num_iter)\n",
    "indent, step = 25, 1.0 / 16.0\n",
    "alpha, sample = grid_alpha_sample(\n",
    "    max(step, test_alpha - indent), test_alpha + indent, step, num_iter)\n",
    "print(alpha)"
   ]
  },
  {
   "cell_type": "code",
   "execution_count": null,
   "metadata": {},
   "outputs": [],
   "source": [
    "fig = plt.figure(figsize=(16, 9), dpi=400)\n",
    "subplot = fig.add_subplot(111, facecolor='white', title='stick_lengths')\n",
    "subplot.plot(np.arange(n), stick_breaking(n, alpha), label=str(alpha))\n",
    "plt.legend()\n",
    "plt.show()"
   ]
  },
  {
   "cell_type": "code",
   "execution_count": null,
   "metadata": {},
   "outputs": [],
   "source": [
    "def grid_c_B(sample: np.ndarray,\n",
    "        start_B: float, stop_B: float, step_B: float,\n",
    "        start_c: float, stop_c: float, step_c: float) -> tuple:\n",
    "    if np.any(np.diff(sample) > 0):\n",
    "        raise ValueError()\n",
    "    min_sample_norm = float_info.max\n",
    "    for B in np.arange(start_B, stop_B, step_B):\n",
    "        for c in np.arange(start_c, stop_c, step_c):\n",
    "            sample_norm = norm(mandelbrot(sample, B, c) - sample)\n",
    "            if min_sample_norm > sample_norm:\n",
    "                min_sample_norm = sample_norm\n",
    "                min_B, min_c = B, c\n",
    "    return min_B, min_c"
   ]
  },
  {
   "cell_type": "code",
   "execution_count": null,
   "metadata": {},
   "outputs": [],
   "source": [
    "c, B = grid_c_B(sample, 1.0, 4.0, 1.0 / 256.0, -100.0, 100.0, 1.0 / 16.0)\n",
    "print(c, B)"
   ]
  },
  {
   "cell_type": "code",
   "execution_count": null,
   "metadata": {},
   "outputs": [],
   "source": [
    "stick_lengths = stick_breaking(n, alpha)\n",
    "plot_stick_lengths(stick_lengths, alpha, B)"
   ]
  }
 ],
 "metadata": {
  "kernelspec": {
   "display_name": "Python 3",
   "language": "python",
   "name": "python3"
  },
  "language_info": {
   "codemirror_mode": {
    "name": "ipython",
    "version": 3
   },
   "file_extension": ".py",
   "mimetype": "text/x-python",
   "name": "python",
   "nbconvert_exporter": "python",
   "pygments_lexer": "ipython3",
   "version": "3.6.5"
  }
 },
 "nbformat": 4,
 "nbformat_minor": 2
}
