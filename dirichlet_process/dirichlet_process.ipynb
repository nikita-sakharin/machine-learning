{
 "cells": [
  {
   "cell_type": "code",
   "execution_count": null,
   "metadata": {},
   "outputs": [],
   "source": [
    "import numpy as np\n",
    "import matplotlib.pyplot as plt\n",
    "from numpy.random import Generator, PCG64\n",
    "\n",
    "G = Generator(PCG64())\n",
    "\n",
    "\n",
    "n = 100\n",
    "\n",
    "def stick_breaking(n: int, alpha: float) -> np.ndarray:\n",
    "    \"\"\"\n",
    "    Draws n samples from a stick-breaking process with beta distribution intensity alpha.\n",
    "\n",
    "    :param n: number of samples\n",
    "    :param alpha: intensity parameter of the beta distribution\n",
    "    :returns: stick lengths\n",
    "    \"\"\"\n",
    "    betas = G.beta(a=1.0, b=alpha, size=n)\n",
    "    betas[1:] *= np.cumprod(1.0 - betas[:-1])\n",
    "    weights = np.sort(betas)[::-1]\n",
    "    return weights\n",
    "\n",
    "def mandelbrot(x: np.ndarray, m: float, c: float, B: float):\n",
    "    return m / np.power(c + x, B)\n",
    "\n",
    "def plot_stick_lengths(stick_lengths: np.ndarray, alpha: float, B: float) -> None:\n",
    "    \"\"\"\n",
    "    Plots -log2(sticks)\n",
    "    :param sticks: list of stick lenghts\n",
    "    \"\"\"\n",
    "    n = len(stick_lengths)\n",
    "    x = np.arange(n) + 1\n",
    "    y = mandelbrot(x, stick_lengths[0], 0.0, B)\n",
    "    \n",
    "    fig = plt.figure(figsize=(16, 9), dpi=400)\n",
    "    subplot = fig.add_subplot(111, facecolor='white')\n",
    "    subplot.plot(np.log2(x), -np.log2(stick_lengths), label=str('-log2(stick_lengths)'))\n",
    "    subplot.plot(np.log2(x), -np.log2(y), label=str('-log2(mandelbrot)'))\n",
    "    plt.legend()\n",
    "    plt.show()"
   ]
  },
  {
   "cell_type": "code",
   "execution_count": null,
   "metadata": {},
   "outputs": [],
   "source": [
    "from numpy.linalg import norm\n",
    "\n",
    "def zipf_law_norm(sample: np.ndarray, ord=None) -> float:\n",
    "    n = len(sample)\n",
    "    x = sample / sample[0] * (1 + np.arange(n))\n",
    "    return norm(x - np.ones(n), ord=ord)\n",
    "\n",
    "assert zipf_law_norm(np.array([24, 12, 8, 6, 4.8, 4])) == 1.1102230246251565e-16"
   ]
  },
  {
   "cell_type": "code",
   "execution_count": null,
   "metadata": {},
   "outputs": [],
   "source": [
    "from sys import float_info\n",
    "\n",
    "def grid_alpha_sample(start: float, stop: float, step: float,\n",
    "        num_iter: int) -> tuple:\n",
    "    min_sample_norm = float_info.max\n",
    "    for alpha in np.arange(start, stop, step):\n",
    "        for _ in range(num_iter):\n",
    "            sample = stick_breaking(n, alpha)\n",
    "            sample_norm = zipf_law_norm(sample)\n",
    "            if min_sample_norm > sample_norm:\n",
    "                min_sample_norm = sample_norm\n",
    "                min_alpha, min_sample = alpha, sample\n",
    "    return min_alpha, min_sample\n",
    "\n",
    "num_iter = 10000\n",
    "step = 1.0 / 8.0\n",
    "test_alpha = grid_alpha_sample(step, 250, step, num_iter)[0]\n",
    "indent, step = 25, 1.0 / 16.0\n",
    "alpha, sample = grid_alpha_sample(\n",
    "    max(step, test_alpha - indent), test_alpha + indent, step, num_iter)\n",
    "print(alpha)\n",
    "print(sample)"
   ]
  },
  {
   "cell_type": "code",
   "execution_count": null,
   "metadata": {},
   "outputs": [],
   "source": [
    "fig = plt.figure(figsize=(16, 9), dpi=400)\n",
    "subplot = fig.add_subplot(111, facecolor='white', title='stick_lengths')\n",
    "subplot.plot(sample, label=str(alpha))\n",
    "plt.legend()\n",
    "plt.show()"
   ]
  },
  {
   "cell_type": "code",
   "execution_count": null,
   "metadata": {},
   "outputs": [],
   "source": [
    "fig = plt.figure(figsize=(16, 9), dpi=400)\n",
    "subplot = fig.add_subplot(111, facecolor='white', title='stick_lengths')\n",
    "subplot.plot(sample, label=str(alpha))\n",
    "subplot.plot(mandelbrot(np.arange(n) + 1, sample[0], 0.0, 1.0), label='mandelbrot')\n",
    "plt.legend()\n",
    "plt.show()"
   ]
  },
  {
   "cell_type": "code",
   "execution_count": null,
   "metadata": {},
   "outputs": [],
   "source": [
    "plot_stick_lengths(sample, alpha, 1.0)"
   ]
  }
 ],
 "metadata": {
  "kernelspec": {
   "display_name": "Python 3",
   "language": "python",
   "name": "python3"
  },
  "language_info": {
   "codemirror_mode": {
    "name": "ipython",
    "version": 3
   },
   "file_extension": ".py",
   "mimetype": "text/x-python",
   "name": "python",
   "nbconvert_exporter": "python",
   "pygments_lexer": "ipython3",
   "version": "3.6.5"
  }
 },
 "nbformat": 4,
 "nbformat_minor": 2
}
