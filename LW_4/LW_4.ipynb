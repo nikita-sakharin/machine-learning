{
 "cells": [
  {
   "cell_type": "code",
   "execution_count": 154,
   "metadata": {},
   "outputs": [],
   "source": [
    "import matplotlib.pyplot as plt\n",
    "from matplotlib.colors import ListedColormap\n",
    "import numpy as np\n",
    "import pandas as pd\n",
    "import re\n",
    "from sklearn.linear_model import LogisticRegression"
   ]
  },
  {
   "cell_type": "code",
   "execution_count": 161,
   "metadata": {},
   "outputs": [],
   "source": [
    "float_type = 'float64'\n",
    "feature = ['Pclass', 'Sex', 'Age', 'SibSp', 'Parch', 'Fare', 'Master', 'Aristocratic']\n",
    "\n",
    "def df_feature(df):\n",
    "    df['Sex'] = (df['Sex'] == 'male')\n",
    "    title_feature(df)\n",
    "    df[feature] = df[feature].astype(float_type)\n",
    "    fillna(df)\n",
    "\n",
    "def fillna(df):\n",
    "    df.Age = df.Age.fillna(round(df.Age.mean()))\n",
    "    fare_groupby = df[df.Fare > 0.0].groupby('Pclass')['Fare'].mean()\n",
    "    cond = (df.Fare == 0.0) | (df.Fare.isna())\n",
    "    df.loc[cond, 'Fare'] = fare_groupby[df.loc[cond, 'Pclass']].values\n",
    "    df.loc[df.Embarked.isnull(), 'Embarked'] = 'S'\n",
    "\n",
    "def title_feature(df):\n",
    "    df['Title'] = df.apply(lambda row: re.search('\\w[\\s\\w]+', re.search(',\\s+[\\s\\w]+\\.', row['Name']).group(0)).group(0), axis=1).astype(str)\n",
    "    df.loc[df.Title == 'Mlle', 'Title'] = 'Miss'\n",
    "    df.loc[df.Title == 'Monsieur', 'Title'] = 'Mr'\n",
    "    df.loc[(df.Title == 'Ms') | (df.Title == 'Mme'), 'Title'] = 'Mrs'\n",
    "    df.loc[~df.Title.isin(['Miss', 'Mr', 'Mrs', 'Master']), 'Title'] = 'Aristocratic'\n",
    "    df['Aristocratic'] = (df.Title == 'Aristocratic').astype(float_type)\n",
    "    df['Master'] = (df.Title == 'Master').astype(float_type)"
   ]
  },
  {
   "cell_type": "code",
   "execution_count": 159,
   "metadata": {},
   "outputs": [],
   "source": [
    "def submission(train_path, test_path):\n",
    "    df_train = pd.read_csv(train_path, index_col='PassengerId')\n",
    "    df_test = pd.read_csv(test_path, index_col='PassengerId')\n",
    "    df = df_train.append(df_test, verify_integrity=True, sort=False)\n",
    "    df_feature(df)\n",
    "    df_train = df.loc[df_train.index]\n",
    "    df_test = df.loc[df_test.index]\n",
    "    df_test.drop(columns='Survived', inplace=True)\n",
    "    model = LogisticRegression(max_iter=256)\n",
    "    model.fit(df_train[feature], df_train.Survived)\n",
    "    df_test['Survived'] = model.predict(df_test[feature])\n",
    "    return df_test.Survived.astype(int)"
   ]
  },
  {
   "cell_type": "code",
   "execution_count": 160,
   "metadata": {},
   "outputs": [],
   "source": [
    "submission_path = 'submission.csv'\n",
    "df_submission = submission('./train.csv', './test.csv')\n",
    "df_submission.to_csv(submission_path, header=True)"
   ]
  },
  {
   "cell_type": "code",
   "execution_count": 267,
   "metadata": {},
   "outputs": [
    {
     "data": {
      "text/plain": [
       "'\\n#df.Sex.get_dummies()\\n#pd.get_dummies(df, columns)\\n\\ndf = pd.read_csv(\\'./titanic/train.csv\\', index_col=\\'PassengerId\\')\\nx = np.array(df.Cabin.astype(\\'str\\'))\\nvectorize_len = np.vectorize(len)\\ny = vectorize_len(x)\\nx[(x != \\'nan\\')]\\npd.crosstab(df[\\'Cabin\\'], df[\\'nametype\\'])\\n\\nplt.figure(figsize=(15,35))\\nplt.title(\"Dataset visualization\")\\nplt.scatter(df.Sex, df.Age, c=df.Survived, cmap=ListedColormap([\"blue\", \"red\"]), s=20)\\nplt.show()\\n'"
      ]
     },
     "execution_count": 267,
     "metadata": {},
     "output_type": "execute_result"
    }
   ],
   "source": [
    "\"\"\"\n",
    "#df.Sex.get_dummies()\n",
    "#pd.get_dummies(df, columns)\n",
    "\n",
    "df = pd.read_csv('./titanic/train.csv', index_col='PassengerId')\n",
    "x = np.array(df.Cabin.astype('str'))\n",
    "vectorize_len = np.vectorize(len)\n",
    "y = vectorize_len(x)\n",
    "x[(x != 'nan')]\n",
    "pd.crosstab(df['Cabin'], df['nametype'])\n",
    "\n",
    "plt.figure(figsize=(15,35))\n",
    "plt.title(\"Dataset visualization\")\n",
    "plt.scatter(df.Sex, df.Age, c=df.Survived, cmap=ListedColormap([\"blue\", \"red\"]), s=20)\n",
    "plt.show()\n",
    "\"\"\""
   ]
  },
  {
   "cell_type": "code",
   "execution_count": 266,
   "metadata": {},
   "outputs": [
    {
     "data": {
      "text/plain": [
       "'\\ndf = pd.read_csv(\\'./titanic/train.csv\\')#, index_col=\\'PassengerId\\')\\n#df_feature(df)\\ndf[\\'Surname\\'] = df.apply(lambda row: re.search(\"[\\\\w\\\\s\\']+\", row[\\'Name\\']).group(0), axis=1).astype(str)\\ncount = df[[\\'PassengerId\\', \\'Surname\\', \\'Survived\\']].groupby(\\'Surname\\').count()\\ncount[count.PassengerId != count.Survived]\\n\\ntest = pd.read_csv(\\'./titanic/test.csv\\')#, index_col=\\'PassengerId\\')\\ntest[\\'Surname\\'] = test.apply(lambda row: re.search(\"[\\\\w\\\\s\\']+\", row[\\'Name\\']).group(0), axis=1).astype(str)\\nset(test[\\'Surname\\']) & set(df[\\'Surname\\'])#.value_counts()\\n'"
      ]
     },
     "execution_count": 266,
     "metadata": {},
     "output_type": "execute_result"
    }
   ],
   "source": [
    "\"\"\"\n",
    "df = pd.read_csv('./titanic/train.csv')#, index_col='PassengerId')\n",
    "#df_feature(df)\n",
    "df['Surname'] = df.apply(lambda row: re.search(\"[\\w\\s']+\", row['Name']).group(0), axis=1).astype(str)\n",
    "count = df[['PassengerId', 'Surname', 'Survived']].groupby('Surname').count()\n",
    "count[count.PassengerId != count.Survived]\n",
    "\n",
    "test = pd.read_csv('./titanic/test.csv')#, index_col='PassengerId')\n",
    "test['Surname'] = test.apply(lambda row: re.search(\"[\\w\\s']+\", row['Name']).group(0), axis=1).astype(str)\n",
    "set(test['Surname']) & set(df['Surname'])#.value_counts()\n",
    "\"\"\""
   ]
  }
 ],
 "metadata": {
  "kernelspec": {
   "display_name": "Python 3",
   "language": "python",
   "name": "python3"
  }
 },
 "nbformat": 4,
 "nbformat_minor": 2
}
